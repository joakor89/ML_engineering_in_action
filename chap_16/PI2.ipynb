{
 "cells": [
  {
   "cell_type": "markdown",
   "id": "979354bf-f372-489d-981d-c1547e8b0415",
   "metadata": {},
   "source": [
    "# Production Infrastructure Part 2: Feature Store\n",
    "\n",
    "### Loading Libraries"
   ]
  },
  {
   "cell_type": "code",
   "execution_count": null,
   "id": "6ccbfbea-0b77-4af4-a2ca-a143c9ea92a6",
   "metadata": {},
   "outputs": [],
   "source": [
    "%pip install catboost"
   ]
  },
  {
   "cell_type": "code",
   "execution_count": null,
   "id": "c1384635-d7ab-4bde-ba6d-a69662dd8f9e",
   "metadata": {},
   "outputs": [],
   "source": [
    "# Requests\n",
    "import requests\n",
    "\n",
    "# Numerical Computing\n",
    "import numpy as np\n",
    "\n",
    "# Data Manipulation\n",
    "\n",
    "from dataclasses import dataclass\n",
    "from typing import List\n",
    "\n",
    "# Apache Spark\n",
    "from pyspark.sql.types import *\n",
    "from pyspark.sql import functions as F\n",
    "from pyspark.sql.functions import when\n",
    "\n",
    "from databricks import feature_store\n",
    "from databricks.feature_store import FeatureLookup\n",
    "import mlflow\n",
    "from mlflow.tracking.client import MlflowClient\n",
    "\n",
    "# Categorical Boosting\n",
    "from catboost import CatBoostClassifier, metrics as cb_metrics\n",
    "\n",
    "# Scikit-Learn\n",
    "from sklearn import metrics\n",
    "from sklearn.model_selection import train_test_split"
   ]
  },
  {
   "cell_type": "markdown",
   "id": "127ee635-452c-4cda-9f6b-ab7d3a010a0c",
   "metadata": {},
   "source": [
    "#### Dataset Acquisition & Table Registration"
   ]
  },
  {
   "cell_type": "code",
   "execution_count": null,
   "id": "f3fc4d35-d337-4633-b15a-013f17be4581",
   "metadata": {},
   "outputs": [],
   "source": [
    "class DataIngest:\n",
    "  \n",
    "  def __init__(self, url, local, source, sink, schema, database, table_name):\n",
    "    self.url = url\n",
    "    self.local = local\n",
    "    self.source = source\n",
    "    self.sink = sink\n",
    "    self.schema = schema\n",
    "    self.database = database\n",
    "    self.table_name = table_name\n",
    "    \n",
    "  def _acquire_raw(self):\n",
    "    response = requests.get(self.url, stream=True)\n",
    "    with open(self.url.split(\"/\")[-1], \"wb\") as data:\n",
    "      data.write(response.content)\n",
    "    response.close()\n",
    "    \n",
    "  def _transfer_local(self):\n",
    "    dbutils.fs.mv(self.local, self.source)\n",
    "    \n",
    "  def _read_source(self):\n",
    "    return spark.read.csv(self.source, header=True, inferSchema=False, schema=self.schema)\n",
    "  \n",
    "  def _write_source(self, data):\n",
    "    data.write.format(\"delta\").mode(\"overwrite\").option(\"mergeSchema\", \"true\").option(\"overwriteSchema\", \"true\").save(self.sink)\n",
    "    \n",
    "  def _create_table(self):\n",
    "    spark.sql(f\"CREATE DATABASE IF NOT EXISTS {self.database};\")\n",
    "    spark.sql(f\"\"\"CREATE TABLE IF NOT EXISTS {self.database}.{self.table_name} USING DELTA LOCATION '{self.sink}';\"\"\")\n",
    "    dbutils.fs.rm(self.source)\n",
    "  \n",
    "  def register_data(self):\n",
    "    self._acquire_raw()\n",
    "    self._transfer_local()\n",
    "    data = self._read_source()\n",
    "    self._write_source(data)\n",
    "    self._create_table()\n",
    "    \n",
    "  def get_data(self):\n",
    "    return spark.table(f\"{self.database}.{self.table_name}\")"
   ]
  },
  {
   "cell_type": "markdown",
   "id": "43c2924a-9d06-4af3-b8cc-5713814ad5e5",
   "metadata": {},
   "source": [
    "#### Configuration for Data Ingestion & Registration, Followed by Execution of the Ingest."
   ]
  },
  {
   "cell_type": "code",
   "execution_count": null,
   "id": "ad570c27-406a-4602-bb6c-7f6df764dbf6",
   "metadata": {},
   "outputs": [],
   "source": [
    "DATA_URL = \"https://archive.ics.uci.edu/ml/machine-learning-databases/adult/adult.data\"\n",
    "LOCAL_FILE = \"file:/databricks/driver/adult.data\"\n",
    "SOURCE = \"\" # Change this to your local workspace pathing if you want to run this\n",
    "SINK = \"\" # Change this to your local workspace pathing if you want to run this\n",
    "DATABASE = \"\" # Change this if you want to run this\n",
    "TABLE_NAME = \"adult_classification\"\n",
    "\n",
    "ADULT_SCHEMA = StructType([\n",
    "  StructField('age', IntegerType()),\n",
    "  StructField('working_class', StringType()),\n",
    "  StructField('final_weight', DoubleType()),\n",
    "  StructField('education_level', StringType()),\n",
    "  StructField('education_years', DoubleType()),\n",
    "  StructField('marital_status', StringType()),\n",
    "  StructField('occupation', StringType()),\n",
    "  StructField('relationship_type', StringType()),\n",
    "  StructField('race', StringType()),\n",
    "  StructField('gender', StringType()),\n",
    "  StructField('capital_gain', DoubleType()),\n",
    "  StructField('capital_loss', DoubleType()),\n",
    "  StructField('hours_worked_per_week', DoubleType()),\n",
    "  StructField('native_country', StringType()),\n",
    "  StructField('income', StringType())\n",
    "])\n",
    "\n",
    "data_handler = DataIngest(DATA_URL, LOCAL_FILE, SOURCE, SINK, ADULT_SCHEMA, DATABASE, TABLE_NAME)\n",
    "data_handler.register_data()"
   ]
  },
  {
   "cell_type": "code",
   "execution_count": null,
   "id": "38bef83f-0759-45e4-87fb-6999eac98091",
   "metadata": {},
   "outputs": [],
   "source": [
    "raw_data = data_handler.get_data()\n",
    "\n",
    "display(raw_data)"
   ]
  },
  {
   "cell_type": "code",
   "execution_count": null,
   "id": "22841ee1-e6b7-43d4-b497-b1ac9bdaa1c5",
   "metadata": {},
   "outputs": [],
   "source": []
  },
  {
   "cell_type": "code",
   "execution_count": null,
   "id": "9c27101e-eeab-42b6-8d58-e785cdbb3711",
   "metadata": {},
   "outputs": [],
   "source": []
  },
  {
   "cell_type": "code",
   "execution_count": null,
   "id": "06829ff0-dfdf-48c9-938d-17c383e957f7",
   "metadata": {},
   "outputs": [],
   "source": []
  },
  {
   "cell_type": "code",
   "execution_count": null,
   "id": "354dea92-caf0-46a9-a6e6-e0c5cc71f907",
   "metadata": {},
   "outputs": [],
   "source": []
  },
  {
   "cell_type": "code",
   "execution_count": null,
   "id": "7043bae6-cb68-41eb-8f97-e59213ec69d1",
   "metadata": {},
   "outputs": [],
   "source": []
  },
  {
   "cell_type": "code",
   "execution_count": null,
   "id": "c1e1aa7c-7c73-4f1b-9dd2-dad52250528b",
   "metadata": {},
   "outputs": [],
   "source": []
  },
  {
   "cell_type": "code",
   "execution_count": null,
   "id": "19bf9a4c-1a5e-450d-aea2-a72040204589",
   "metadata": {},
   "outputs": [],
   "source": []
  },
  {
   "cell_type": "code",
   "execution_count": null,
   "id": "1889cad8-f235-4580-a1c3-9c798f86d7e1",
   "metadata": {},
   "outputs": [],
   "source": []
  },
  {
   "cell_type": "code",
   "execution_count": null,
   "id": "cd1be17b-6f8a-4800-ab48-e4279453e1b0",
   "metadata": {},
   "outputs": [],
   "source": []
  },
  {
   "cell_type": "code",
   "execution_count": null,
   "id": "739987ab-83fa-475f-9c91-145a081204c8",
   "metadata": {},
   "outputs": [],
   "source": []
  },
  {
   "cell_type": "code",
   "execution_count": null,
   "id": "ab972b46-21e0-4b58-a31e-05f64312e0b4",
   "metadata": {},
   "outputs": [],
   "source": []
  },
  {
   "cell_type": "code",
   "execution_count": null,
   "id": "ca54dbf7-3b9f-41d1-8690-abba08ea8148",
   "metadata": {},
   "outputs": [],
   "source": []
  },
  {
   "cell_type": "code",
   "execution_count": null,
   "id": "f8473308-51ff-4bea-ac1a-f9ee117ad42d",
   "metadata": {},
   "outputs": [],
   "source": []
  },
  {
   "cell_type": "code",
   "execution_count": null,
   "id": "1f4f0ba3-2100-4071-9316-04eb960a61b1",
   "metadata": {},
   "outputs": [],
   "source": []
  },
  {
   "cell_type": "code",
   "execution_count": null,
   "id": "922f7049-77fe-42d8-be30-afa8d82c6c69",
   "metadata": {},
   "outputs": [],
   "source": []
  },
  {
   "cell_type": "code",
   "execution_count": null,
   "id": "ceeceb30-785a-44a3-926d-1ed20f2b2dcf",
   "metadata": {},
   "outputs": [],
   "source": []
  },
  {
   "cell_type": "code",
   "execution_count": null,
   "id": "911c22af-6f5b-46c7-8ffd-a53a2ee8031c",
   "metadata": {},
   "outputs": [],
   "source": []
  },
  {
   "cell_type": "code",
   "execution_count": null,
   "id": "96b2da4b-9176-4f14-ade1-105859537064",
   "metadata": {},
   "outputs": [],
   "source": []
  },
  {
   "cell_type": "code",
   "execution_count": null,
   "id": "c9b06ef6-c467-44a9-b4cc-2e68594a621c",
   "metadata": {},
   "outputs": [],
   "source": []
  },
  {
   "cell_type": "code",
   "execution_count": null,
   "id": "f5b643dc-8fc1-4264-85f8-213378437ced",
   "metadata": {},
   "outputs": [],
   "source": []
  },
  {
   "cell_type": "code",
   "execution_count": null,
   "id": "d146f74a-6ef6-4902-9b50-271d6d76e512",
   "metadata": {},
   "outputs": [],
   "source": []
  },
  {
   "cell_type": "code",
   "execution_count": null,
   "id": "e0d2844f-0d86-4968-bf1c-65d54c47ff7b",
   "metadata": {},
   "outputs": [],
   "source": []
  },
  {
   "cell_type": "code",
   "execution_count": null,
   "id": "ebcda140-f5f8-4fe8-b8af-f1111e3e8c4c",
   "metadata": {},
   "outputs": [],
   "source": []
  }
 ],
 "metadata": {
  "kernelspec": {
   "display_name": "Python 3 (ipykernel)",
   "language": "python",
   "name": "python3"
  },
  "language_info": {
   "codemirror_mode": {
    "name": "ipython",
    "version": 3
   },
   "file_extension": ".py",
   "mimetype": "text/x-python",
   "name": "python",
   "nbconvert_exporter": "python",
   "pygments_lexer": "ipython3",
   "version": "3.11.9"
  }
 },
 "nbformat": 4,
 "nbformat_minor": 5
}
