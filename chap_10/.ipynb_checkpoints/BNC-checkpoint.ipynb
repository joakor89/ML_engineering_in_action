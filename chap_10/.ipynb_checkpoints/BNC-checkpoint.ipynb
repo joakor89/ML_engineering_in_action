{
 "cells": [
  {
   "cell_type": "markdown",
   "id": "9fbb12b3-6c08-4be9-9847-00fc666d94e1",
   "metadata": {},
   "source": [
    "# Bad naming conventions\n",
    "\n",
    "### Loading Libraires"
   ]
  },
  {
   "cell_type": "code",
   "execution_count": null,
   "id": "e16c9a5c-4184-4180-92cd-cf04634c9f6f",
   "metadata": {},
   "outputs": [],
   "source": [
    "# Math\n",
    "import math\n",
    "\n",
    "# Operating System\n",
    "import random\n",
    "import inspect\n",
    "import logging\n",
    "import operator\n",
    "import functools\n",
    "from importlib import reload\n",
    "from datetime import datetime\n",
    "\n",
    "# Collections\n",
    "from collections import namedtuple\n",
    "\n",
    "# Numerical Computing\n",
    "import numpy as np\n",
    "\n",
    "# Data Manipulation\n",
    "import pandas as pd\n",
    "\n",
    "# Data Visualization\n",
    "import seaborn as sns\n",
    "import matplotlib.pyplot as plt\n",
    "\n",
    "# Scikit-Learn\n",
    "from sklearn.metrics import mean_squared_error"
   ]
  }
 ],
 "metadata": {
  "kernelspec": {
   "display_name": "Python 3 (ipykernel)",
   "language": "python",
   "name": "python3"
  },
  "language_info": {
   "codemirror_mode": {
    "name": "ipython",
    "version": 3
   },
   "file_extension": ".py",
   "mimetype": "text/x-python",
   "name": "python",
   "nbconvert_exporter": "python",
   "pygments_lexer": "ipython3",
   "version": "3.11.9"
  }
 },
 "nbformat": 4,
 "nbformat_minor": 5
}
