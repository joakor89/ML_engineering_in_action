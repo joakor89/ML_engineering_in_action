{
 "cells": [
  {
   "cell_type": "markdown",
   "id": "1242945a-965f-4110-bf48-d34badbdf64d",
   "metadata": {},
   "source": [
    "# Quality & Acceptance Testing\n",
    "\n",
    "### Loading Libraries"
   ]
  },
  {
   "cell_type": "code",
   "execution_count": 1,
   "id": "b49eefdb-f55a-4b69-9156-830a473739e9",
   "metadata": {},
   "outputs": [
    {
     "name": "stdout",
     "output_type": "stream",
     "text": [
      "Requirement already satisfied: audio2numpy in /Users/isisromero/anaconda3/envs/MLEIA/lib/python3.11/site-packages (0.1.2)\n",
      "Requirement already satisfied: numpy in /Users/isisromero/anaconda3/envs/MLEIA/lib/python3.11/site-packages (from audio2numpy) (1.26.4)\n",
      "Requirement already satisfied: ffmpeg in /Users/isisromero/anaconda3/envs/MLEIA/lib/python3.11/site-packages (from audio2numpy) (1.4)\n",
      "Note: you may need to restart the kernel to use updated packages.\n"
     ]
    }
   ],
   "source": [
    "%pip install audio2numpy"
   ]
  },
  {
   "cell_type": "code",
   "execution_count": 2,
   "id": "2cb58d3e-c813-4699-be48-e12d75febe8d",
   "metadata": {},
   "outputs": [
    {
     "name": "stdout",
     "output_type": "stream",
     "text": [
      "Requirement already satisfied: librosa in /Users/isisromero/anaconda3/envs/MLEIA/lib/python3.11/site-packages (0.10.2.post1)\n",
      "Requirement already satisfied: audioread>=2.1.9 in /Users/isisromero/anaconda3/envs/MLEIA/lib/python3.11/site-packages (from librosa) (3.0.1)\n",
      "Requirement already satisfied: numpy!=1.22.0,!=1.22.1,!=1.22.2,>=1.20.3 in /Users/isisromero/anaconda3/envs/MLEIA/lib/python3.11/site-packages (from librosa) (1.26.4)\n",
      "Requirement already satisfied: scipy>=1.2.0 in /Users/isisromero/anaconda3/envs/MLEIA/lib/python3.11/site-packages (from librosa) (1.10.0)\n",
      "Requirement already satisfied: scikit-learn>=0.20.0 in /Users/isisromero/anaconda3/envs/MLEIA/lib/python3.11/site-packages (from librosa) (1.1.3)\n",
      "Requirement already satisfied: joblib>=0.14 in /Users/isisromero/anaconda3/envs/MLEIA/lib/python3.11/site-packages (from librosa) (1.4.2)\n",
      "Requirement already satisfied: decorator>=4.3.0 in /Users/isisromero/anaconda3/envs/MLEIA/lib/python3.11/site-packages (from librosa) (5.1.1)\n",
      "Requirement already satisfied: numba>=0.51.0 in /Users/isisromero/anaconda3/envs/MLEIA/lib/python3.11/site-packages (from librosa) (0.60.0)\n",
      "Requirement already satisfied: soundfile>=0.12.1 in /Users/isisromero/anaconda3/envs/MLEIA/lib/python3.11/site-packages (from librosa) (0.12.1)\n",
      "Requirement already satisfied: pooch>=1.1 in /Users/isisromero/anaconda3/envs/MLEIA/lib/python3.11/site-packages (from librosa) (1.7.0)\n",
      "Requirement already satisfied: soxr>=0.3.2 in /Users/isisromero/anaconda3/envs/MLEIA/lib/python3.11/site-packages (from librosa) (0.4.0)\n",
      "Requirement already satisfied: typing-extensions>=4.1.1 in /Users/isisromero/anaconda3/envs/MLEIA/lib/python3.11/site-packages (from librosa) (4.11.0)\n",
      "Requirement already satisfied: lazy-loader>=0.1 in /Users/isisromero/anaconda3/envs/MLEIA/lib/python3.11/site-packages (from librosa) (0.4)\n",
      "Requirement already satisfied: msgpack>=1.0 in /Users/isisromero/anaconda3/envs/MLEIA/lib/python3.11/site-packages (from librosa) (1.0.8)\n",
      "Requirement already satisfied: packaging in /Users/isisromero/anaconda3/envs/MLEIA/lib/python3.11/site-packages (from lazy-loader>=0.1->librosa) (24.1)\n",
      "Requirement already satisfied: llvmlite<0.44,>=0.43.0dev0 in /Users/isisromero/anaconda3/envs/MLEIA/lib/python3.11/site-packages (from numba>=0.51.0->librosa) (0.43.0)\n",
      "Requirement already satisfied: platformdirs>=2.5.0 in /Users/isisromero/anaconda3/envs/MLEIA/lib/python3.11/site-packages (from pooch>=1.1->librosa) (3.10.0)\n",
      "Requirement already satisfied: requests>=2.19.0 in /Users/isisromero/anaconda3/envs/MLEIA/lib/python3.11/site-packages (from pooch>=1.1->librosa) (2.32.2)\n",
      "Requirement already satisfied: threadpoolctl>=2.0.0 in /Users/isisromero/anaconda3/envs/MLEIA/lib/python3.11/site-packages (from scikit-learn>=0.20.0->librosa) (3.5.0)\n",
      "Requirement already satisfied: cffi>=1.0 in /Users/isisromero/anaconda3/envs/MLEIA/lib/python3.11/site-packages (from soundfile>=0.12.1->librosa) (1.16.0)\n",
      "Requirement already satisfied: pycparser in /Users/isisromero/anaconda3/envs/MLEIA/lib/python3.11/site-packages (from cffi>=1.0->soundfile>=0.12.1->librosa) (2.21)\n",
      "Requirement already satisfied: charset-normalizer<4,>=2 in /Users/isisromero/anaconda3/envs/MLEIA/lib/python3.11/site-packages (from requests>=2.19.0->pooch>=1.1->librosa) (2.0.4)\n",
      "Requirement already satisfied: idna<4,>=2.5 in /Users/isisromero/anaconda3/envs/MLEIA/lib/python3.11/site-packages (from requests>=2.19.0->pooch>=1.1->librosa) (3.7)\n",
      "Requirement already satisfied: urllib3<3,>=1.21.1 in /Users/isisromero/anaconda3/envs/MLEIA/lib/python3.11/site-packages (from requests>=2.19.0->pooch>=1.1->librosa) (2.2.2)\n",
      "Requirement already satisfied: certifi>=2017.4.17 in /Users/isisromero/anaconda3/envs/MLEIA/lib/python3.11/site-packages (from requests>=2.19.0->pooch>=1.1->librosa) (2024.7.4)\n",
      "Note: you may need to restart the kernel to use updated packages.\n"
     ]
    }
   ],
   "source": [
    "%pip install librosa"
   ]
  },
  {
   "cell_type": "code",
   "execution_count": 3,
   "id": "470c6b7e-434f-4ce0-943b-7ac774461555",
   "metadata": {},
   "outputs": [],
   "source": [
    "# File Requests\n",
    "import requests\n",
    "\n",
    "# Numerical Computing\n",
    "import numpy as np\n",
    "import audio2numpy\n",
    "\n",
    "# Librosa\n",
    "import librosa\n",
    "import librosa.display\n",
    "\n",
    "# \n",
    "import seaborn as sns\n",
    "import matplotlib.pyplot as plt\n",
    "\n",
    "#\n",
    "from collections import namedtuple"
   ]
  },
  {
   "cell_type": "markdown",
   "id": "9f61a5e0-d3ed-4f5d-b459-fc4b9e975051",
   "metadata": {},
   "source": [
    "#### Loading Data"
   ]
  },
  {
   "cell_type": "code",
   "execution_count": 4,
   "id": "145c8d58-bdf9-48ba-9173-2f47bac5a967",
   "metadata": {},
   "outputs": [],
   "source": [
    "beethoven_url = \"https://freemusicarchive.org/track/Beethoven_-_Sonata_No_31_in_A_Flat_Major_Op_110_-_I_Moderato_cantabile_molto_espressivo/download\"\n",
    "\n",
    "mozart_url = \"https://freemusicarchive.org/track/Advent_Chamber_Orchestra_-_04_-_Mozart_-_A_Little_Night_Music_allegro/download\""
   ]
  },
  {
   "cell_type": "code",
   "execution_count": 5,
   "id": "21c7c2fd-3e8c-4d2d-8fea-e18ecc2e21ab",
   "metadata": {},
   "outputs": [],
   "source": [
    "def download_classical(url, file_name):\n",
    "    response = requests.get(url, stream=True)\n",
    "    with open(file_name, \"wb\") as song:\n",
    "        song.write(response.content)\n",
    "    response.close()\n",
    "\n",
    "def get_audio_file(file_name):\n",
    "    Song = namedtuple('Song', 'data sample_rate')\n",
    "    data, sr = audio2numpy.audio_from_file(file_name)\n",
    "    return Song(data, sr)\n",
    "\n",
    "def download_and_return_audio(url, file_name):\n",
    "    download_classical(url, file_name)\n",
    "    return get_audio_file(file_name)\n",
    "\n",
    "def get_audio_channels(song_data, sample=5000000):\n",
    "    Channels = namedtuple('Channels', 'left right sample_rate')\n",
    "    left = song_data.data[:,0][:sample]\n",
    "    right = song_data.data[:,1][:sample]\n",
    "    return Channels(left, right, song_data.sample_rate)\n",
    "\n",
    "def extract_mel_spec(channel_data, sample_rate, mels=128, fmax=12000):\n",
    "    Mel = namedtuple('Mel', 'S dB')\n",
    "    S = librosa.feature.melspectrogram(y=channel_data, sr=sample_rate, n_mels=mels, fmax=fmax)\n",
    "    dB = librosa.power_to_db(S, ref=np.max)\n",
    "    return Mel(S, dB)\n",
    "\n",
    "def extract_db_scale(channel_data):\n",
    "    return librosa.amplitude_to_db(np.abs(librosa.stft(channel_data)), ref=np.max)\n",
    "\n",
    "def generate_spectrogram(channel_data, sample_rate, piece_name, mels=128, fmax=22000):\n",
    "    with plt.style.context('seaborn'):\n",
    "        fig, ax = plt.subplots(nrows=2, sharex=True, figsize=(12,8))\n",
    "        harmonic, percussion = librosa.effects.hpss(channel_data)\n",
    "        librosa.display.waveshow(harmonic, sr=sample_rate, alpha=0.5, ax=ax[0], label=\"Harmonic\")\n",
    "        librosa.display.waveshow(percussion, sr=sample_rate, alpha=0.5, ax=ax[0], label=\"Percussion\")\n",
    "        ax[0].set(title=f\"Harmonic and Percussive Waveforms for {piece_name}\")\n",
    "        ax[0].legend(loc='best')\n",
    "        ax[0].set_ylim([-1.0, 1.0])\n",
    "        mel = extract_mel_spec(channel_data, sample_rate, mels, fmax)\n",
    "        librosa.display.specshow(mel.S, x_axis='time', y_axis='mel', sr=sample_rate, fmax=fmax, ax=ax[1])\n",
    "        ax[1].set(title=f\"Mel spectrogram for {piece_name}\")\n",
    "        img = librosa.display.specshow(extract_db_scale(channel_data), y_axis='linear', x_axis='time', \n",
    "                                       sr=sample_rate, ax=ax[1])\n",
    "        fig.colorbar(img, ax=ax, format=\"%+2.f dB\")\n",
    "        plt.savefig(f\"{piece_name}_spec.svg\", format='svg', pad_inches=0)\n",
    "        plt.savefig(f\"{piece_name}_spec.png\", format='png', pad_inches=0)"
   ]
  },
  {
   "cell_type": "code",
   "execution_count": 6,
   "id": "f73b6462-bece-42bf-82d5-a0fd88fbcb43",
   "metadata": {},
   "outputs": [
    {
     "ename": "NoBackendError",
     "evalue": "It is likely that ffmpeg is not yet installed. Please refer github repo for instruction. \n    MacOS: brew install ffmpeg.\n    Linux: sudo apt-get install ffmpeg\n    Windows: Download distribution from ffmpeg website, unzip, add the path of bin (e.g. `C:\ffmpeg\bin`) to system PATH.",
     "output_type": "error",
     "traceback": [
      "\u001b[0;31m---------------------------------------------------------------------------\u001b[0m",
      "\u001b[0;31mNoBackendError\u001b[0m                            Traceback (most recent call last)",
      "Cell \u001b[0;32mIn[6], line 1\u001b[0m\n\u001b[0;32m----> 1\u001b[0m beethoven \u001b[38;5;241m=\u001b[39m download_and_return_audio(beethoven_url, \u001b[38;5;124m\"\u001b[39m\u001b[38;5;124mbeethoven.mp3\u001b[39m\u001b[38;5;124m\"\u001b[39m)\n\u001b[1;32m      3\u001b[0m mozart \u001b[38;5;241m=\u001b[39m download_and_return_audio(mozart_url, \u001b[38;5;124m\"\u001b[39m\u001b[38;5;124mmozart.mp3\u001b[39m\u001b[38;5;124m\"\u001b[39m)\n",
      "Cell \u001b[0;32mIn[5], line 14\u001b[0m, in \u001b[0;36mdownload_and_return_audio\u001b[0;34m(url, file_name)\u001b[0m\n\u001b[1;32m     12\u001b[0m \u001b[38;5;28;01mdef\u001b[39;00m \u001b[38;5;21mdownload_and_return_audio\u001b[39m(url, file_name):\n\u001b[1;32m     13\u001b[0m     download_classical(url, file_name)\n\u001b[0;32m---> 14\u001b[0m     \u001b[38;5;28;01mreturn\u001b[39;00m get_audio_file(file_name)\n",
      "Cell \u001b[0;32mIn[5], line 9\u001b[0m, in \u001b[0;36mget_audio_file\u001b[0;34m(file_name)\u001b[0m\n\u001b[1;32m      7\u001b[0m \u001b[38;5;28;01mdef\u001b[39;00m \u001b[38;5;21mget_audio_file\u001b[39m(file_name):\n\u001b[1;32m      8\u001b[0m     Song \u001b[38;5;241m=\u001b[39m namedtuple(\u001b[38;5;124m'\u001b[39m\u001b[38;5;124mSong\u001b[39m\u001b[38;5;124m'\u001b[39m, \u001b[38;5;124m'\u001b[39m\u001b[38;5;124mdata sample_rate\u001b[39m\u001b[38;5;124m'\u001b[39m)\n\u001b[0;32m----> 9\u001b[0m     data, sr \u001b[38;5;241m=\u001b[39m audio2numpy\u001b[38;5;241m.\u001b[39maudio_from_file(file_name)\n\u001b[1;32m     10\u001b[0m     \u001b[38;5;28;01mreturn\u001b[39;00m Song(data, sr)\n",
      "File \u001b[0;32m~/anaconda3/envs/MLEIA/lib/python3.11/site-packages/audio2numpy/loader.py:76\u001b[0m, in \u001b[0;36maudio_from_file\u001b[0;34m(path, offset, duration, dtype)\u001b[0m\n\u001b[1;32m     61\u001b[0m \u001b[38;5;250m\u001b[39m\u001b[38;5;124;03m'''Load an audio buffer using audioread.\u001b[39;00m\n\u001b[1;32m     62\u001b[0m \u001b[38;5;124;03mThis loads one block at a time, and then concatenates the results.\u001b[39;00m\n\u001b[1;32m     63\u001b[0m \n\u001b[0;32m   (...)\u001b[0m\n\u001b[1;32m     73\u001b[0m \u001b[38;5;124;03m    data type. By default float32\u001b[39;00m\n\u001b[1;32m     74\u001b[0m \u001b[38;5;124;03m'''\u001b[39;00m\n\u001b[1;32m     75\u001b[0m y \u001b[38;5;241m=\u001b[39m []  \u001b[38;5;66;03m# audio array\u001b[39;00m\n\u001b[0;32m---> 76\u001b[0m \u001b[38;5;28;01mwith\u001b[39;00m _audio_read(path) \u001b[38;5;28;01mas\u001b[39;00m input_file:\n\u001b[1;32m     77\u001b[0m     sr_native \u001b[38;5;241m=\u001b[39m input_file\u001b[38;5;241m.\u001b[39msamplerate\n\u001b[1;32m     78\u001b[0m     n_channels \u001b[38;5;241m=\u001b[39m input_file\u001b[38;5;241m.\u001b[39mchannels\n",
      "File \u001b[0;32m~/anaconda3/envs/MLEIA/lib/python3.11/site-packages/audio2numpy/loader.py:57\u001b[0m, in \u001b[0;36m_audio_read\u001b[0;34m(path)\u001b[0m\n\u001b[1;32m     52\u001b[0m     \u001b[38;5;28;01mraise\u001b[39;00m AudioFormatError(\u001b[38;5;124m\"\u001b[39m\u001b[38;5;124mOnly support mp3, wav, aiff formats.\u001b[39m\u001b[38;5;124m\"\u001b[39m)\n\u001b[1;32m     53\u001b[0m msg \u001b[38;5;241m=\u001b[39m \u001b[38;5;124m\"\"\"\u001b[39m\u001b[38;5;124mIt is likely that ffmpeg is not yet installed. Please refer github repo for instruction. \u001b[39m\n\u001b[1;32m     54\u001b[0m \u001b[38;5;124mMacOS: brew install ffmpeg.\u001b[39m\n\u001b[1;32m     55\u001b[0m \u001b[38;5;124mLinux: sudo apt-get install ffmpeg\u001b[39m\n\u001b[1;32m     56\u001b[0m \u001b[38;5;124mWindows: Download distribution from ffmpeg website, unzip, add the path of bin (e.g. `C:\u001b[39m\u001b[38;5;130;01m\\f\u001b[39;00m\u001b[38;5;124mfmpeg\u001b[39m\u001b[38;5;130;01m\\b\u001b[39;00m\u001b[38;5;124min`) to system PATH.\u001b[39m\u001b[38;5;124m\"\"\"\u001b[39m\n\u001b[0;32m---> 57\u001b[0m \u001b[38;5;28;01mraise\u001b[39;00m NoBackendError(msg)\n",
      "\u001b[0;31mNoBackendError\u001b[0m: It is likely that ffmpeg is not yet installed. Please refer github repo for instruction. \n    MacOS: brew install ffmpeg.\n    Linux: sudo apt-get install ffmpeg\n    Windows: Download distribution from ffmpeg website, unzip, add the path of bin (e.g. `C:\ffmpeg\bin`) to system PATH."
     ]
    }
   ],
   "source": [
    "beethoven = download_and_return_audio(beethoven_url, \"beethoven.mp3\")\n",
    "\n",
    "mozart = download_and_return_audio(mozart_url, \"mozart.mp3\")"
   ]
  },
  {
   "cell_type": "code",
   "execution_count": 7,
   "id": "2aabbadf-bbda-46f7-96cc-b2daf8d4f72c",
   "metadata": {},
   "outputs": [
    {
     "ename": "NameError",
     "evalue": "name 'beethoven' is not defined",
     "output_type": "error",
     "traceback": [
      "\u001b[0;31m---------------------------------------------------------------------------\u001b[0m",
      "\u001b[0;31mNameError\u001b[0m                                 Traceback (most recent call last)",
      "Cell \u001b[0;32mIn[7], line 1\u001b[0m\n\u001b[0;32m----> 1\u001b[0m beethoven_channels \u001b[38;5;241m=\u001b[39m get_audio_channels(beethoven, sample\u001b[38;5;241m=\u001b[39m\u001b[38;5;241m2000000\u001b[39m)\n\u001b[1;32m      3\u001b[0m mozart_channels \u001b[38;5;241m=\u001b[39m get_audio_channels(mozart, sample\u001b[38;5;241m=\u001b[39m\u001b[38;5;241m2000000\u001b[39m)\n",
      "\u001b[0;31mNameError\u001b[0m: name 'beethoven' is not defined"
     ]
    }
   ],
   "source": [
    "beethoven_channels = get_audio_channels(beethoven, sample=2000000)\n",
    "\n",
    "mozart_channels = get_audio_channels(mozart, sample=2000000)"
   ]
  },
  {
   "cell_type": "code",
   "execution_count": 8,
   "id": "621c86fd-d226-4654-9290-4bc1573dd7dc",
   "metadata": {},
   "outputs": [
    {
     "ename": "NameError",
     "evalue": "name 'beethoven_channels' is not defined",
     "output_type": "error",
     "traceback": [
      "\u001b[0;31m---------------------------------------------------------------------------\u001b[0m",
      "\u001b[0;31mNameError\u001b[0m                                 Traceback (most recent call last)",
      "Cell \u001b[0;32mIn[8], line 1\u001b[0m\n\u001b[0;32m----> 1\u001b[0m generate_spectrogram(beethoven_channels\u001b[38;5;241m.\u001b[39mleft, beethoven_channels\u001b[38;5;241m.\u001b[39msample_rate, \u001b[38;5;124m\"\u001b[39m\u001b[38;5;124mSonata31Moderato\u001b[39m\u001b[38;5;124m\"\u001b[39m)\n",
      "\u001b[0;31mNameError\u001b[0m: name 'beethoven_channels' is not defined"
     ]
    }
   ],
   "source": [
    "generate_spectrogram(beethoven_channels.left, beethoven_channels.sample_rate, \"Sonata31Moderato\")"
   ]
  },
  {
   "cell_type": "code",
   "execution_count": 17,
   "id": "b6cf12f0-1d16-4a28-b081-88ac63a7f626",
   "metadata": {},
   "outputs": [
    {
     "ename": "NameError",
     "evalue": "name 'mozart_channels' is not defined",
     "output_type": "error",
     "traceback": [
      "\u001b[0;31m---------------------------------------------------------------------------\u001b[0m",
      "\u001b[0;31mNameError\u001b[0m                                 Traceback (most recent call last)",
      "Cell \u001b[0;32mIn[17], line 1\u001b[0m\n\u001b[0;32m----> 1\u001b[0m generate_spectrogram(mozart_channels\u001b[38;5;241m.\u001b[39mleft, mozart_channels\u001b[38;5;241m.\u001b[39msample_rate, \u001b[38;5;124m\"\u001b[39m\u001b[38;5;124mEineKleineNachtmusik\u001b[39m\u001b[38;5;124m\"\u001b[39m)\n",
      "\u001b[0;31mNameError\u001b[0m: name 'mozart_channels' is not defined"
     ]
    }
   ],
   "source": [
    "generate_spectrogram(mozart_channels.left, mozart_channels.sample_rate, \"EineKleineNachtmusik\")"
   ]
  },
  {
   "cell_type": "code",
   "execution_count": null,
   "id": "6403812e-ed62-4361-809c-3479bd903122",
   "metadata": {},
   "outputs": [],
   "source": []
  },
  {
   "cell_type": "code",
   "execution_count": null,
   "id": "244b739a-025f-4842-88ac-bf2bac4629c4",
   "metadata": {},
   "outputs": [],
   "source": []
  },
  {
   "cell_type": "code",
   "execution_count": null,
   "id": "a0d09b00-55b5-4901-b622-0a9b48fd4101",
   "metadata": {},
   "outputs": [],
   "source": []
  },
  {
   "cell_type": "code",
   "execution_count": null,
   "id": "f989fe96-53ea-43ea-8dd7-d713f9b55cbd",
   "metadata": {},
   "outputs": [],
   "source": []
  },
  {
   "cell_type": "code",
   "execution_count": null,
   "id": "231ef213-88a8-49b1-bd73-b45a6979cb52",
   "metadata": {},
   "outputs": [],
   "source": []
  },
  {
   "cell_type": "code",
   "execution_count": null,
   "id": "6558f0a4-1e15-496e-bd16-89c4dbbe2b8e",
   "metadata": {},
   "outputs": [],
   "source": []
  },
  {
   "cell_type": "code",
   "execution_count": null,
   "id": "1aa71714-f2cc-49d2-ac6d-d93bfbb55809",
   "metadata": {},
   "outputs": [],
   "source": []
  }
 ],
 "metadata": {
  "kernelspec": {
   "display_name": "Python 3 (ipykernel)",
   "language": "python",
   "name": "python3"
  },
  "language_info": {
   "codemirror_mode": {
    "name": "ipython",
    "version": 3
   },
   "file_extension": ".py",
   "mimetype": "text/x-python",
   "name": "python",
   "nbconvert_exporter": "python",
   "pygments_lexer": "ipython3",
   "version": "3.11.9"
  }
 },
 "nbformat": 4,
 "nbformat_minor": 5
}
