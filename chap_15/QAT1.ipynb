{
 "cells": [
  {
   "cell_type": "markdown",
   "id": "1242945a-965f-4110-bf48-d34badbdf64d",
   "metadata": {},
   "source": [
    "# Quality & Acceptance Testing\n",
    "\n",
    "### Loading Libraries"
   ]
  },
  {
   "cell_type": "code",
   "execution_count": 12,
   "id": "b49eefdb-f55a-4b69-9156-830a473739e9",
   "metadata": {},
   "outputs": [
    {
     "name": "stdout",
     "output_type": "stream",
     "text": [
      "Requirement already satisfied: audio2numpy in /Users/isisromero/anaconda3/envs/MLEIA/lib/python3.11/site-packages (0.1.2)\n",
      "Requirement already satisfied: numpy in /Users/isisromero/anaconda3/envs/MLEIA/lib/python3.11/site-packages (from audio2numpy) (1.26.4)\n",
      "Requirement already satisfied: ffmpeg in /Users/isisromero/anaconda3/envs/MLEIA/lib/python3.11/site-packages (from audio2numpy) (1.4)\n",
      "Note: you may need to restart the kernel to use updated packages.\n"
     ]
    }
   ],
   "source": [
    "%pip install audio2numpy"
   ]
  },
  {
   "cell_type": "code",
   "execution_count": 13,
   "id": "2cb58d3e-c813-4699-be48-e12d75febe8d",
   "metadata": {},
   "outputs": [
    {
     "name": "stdout",
     "output_type": "stream",
     "text": [
      "Requirement already satisfied: librosa in /Users/isisromero/anaconda3/envs/MLEIA/lib/python3.11/site-packages (0.10.2.post1)\n",
      "Requirement already satisfied: audioread>=2.1.9 in /Users/isisromero/anaconda3/envs/MLEIA/lib/python3.11/site-packages (from librosa) (3.0.1)\n",
      "Requirement already satisfied: numpy!=1.22.0,!=1.22.1,!=1.22.2,>=1.20.3 in /Users/isisromero/anaconda3/envs/MLEIA/lib/python3.11/site-packages (from librosa) (1.26.4)\n",
      "Requirement already satisfied: scipy>=1.2.0 in /Users/isisromero/anaconda3/envs/MLEIA/lib/python3.11/site-packages (from librosa) (1.10.0)\n",
      "Requirement already satisfied: scikit-learn>=0.20.0 in /Users/isisromero/anaconda3/envs/MLEIA/lib/python3.11/site-packages (from librosa) (1.1.3)\n",
      "Requirement already satisfied: joblib>=0.14 in /Users/isisromero/anaconda3/envs/MLEIA/lib/python3.11/site-packages (from librosa) (1.4.2)\n",
      "Requirement already satisfied: decorator>=4.3.0 in /Users/isisromero/anaconda3/envs/MLEIA/lib/python3.11/site-packages (from librosa) (5.1.1)\n",
      "Requirement already satisfied: numba>=0.51.0 in /Users/isisromero/anaconda3/envs/MLEIA/lib/python3.11/site-packages (from librosa) (0.60.0)\n",
      "Requirement already satisfied: soundfile>=0.12.1 in /Users/isisromero/anaconda3/envs/MLEIA/lib/python3.11/site-packages (from librosa) (0.12.1)\n",
      "Requirement already satisfied: pooch>=1.1 in /Users/isisromero/anaconda3/envs/MLEIA/lib/python3.11/site-packages (from librosa) (1.7.0)\n",
      "Requirement already satisfied: soxr>=0.3.2 in /Users/isisromero/anaconda3/envs/MLEIA/lib/python3.11/site-packages (from librosa) (0.4.0)\n",
      "Requirement already satisfied: typing-extensions>=4.1.1 in /Users/isisromero/anaconda3/envs/MLEIA/lib/python3.11/site-packages (from librosa) (4.11.0)\n",
      "Requirement already satisfied: lazy-loader>=0.1 in /Users/isisromero/anaconda3/envs/MLEIA/lib/python3.11/site-packages (from librosa) (0.4)\n",
      "Requirement already satisfied: msgpack>=1.0 in /Users/isisromero/anaconda3/envs/MLEIA/lib/python3.11/site-packages (from librosa) (1.0.8)\n",
      "Requirement already satisfied: packaging in /Users/isisromero/anaconda3/envs/MLEIA/lib/python3.11/site-packages (from lazy-loader>=0.1->librosa) (24.1)\n",
      "Requirement already satisfied: llvmlite<0.44,>=0.43.0dev0 in /Users/isisromero/anaconda3/envs/MLEIA/lib/python3.11/site-packages (from numba>=0.51.0->librosa) (0.43.0)\n",
      "Requirement already satisfied: platformdirs>=2.5.0 in /Users/isisromero/anaconda3/envs/MLEIA/lib/python3.11/site-packages (from pooch>=1.1->librosa) (3.10.0)\n",
      "Requirement already satisfied: requests>=2.19.0 in /Users/isisromero/anaconda3/envs/MLEIA/lib/python3.11/site-packages (from pooch>=1.1->librosa) (2.32.2)\n",
      "Requirement already satisfied: threadpoolctl>=2.0.0 in /Users/isisromero/anaconda3/envs/MLEIA/lib/python3.11/site-packages (from scikit-learn>=0.20.0->librosa) (3.5.0)\n",
      "Requirement already satisfied: cffi>=1.0 in /Users/isisromero/anaconda3/envs/MLEIA/lib/python3.11/site-packages (from soundfile>=0.12.1->librosa) (1.16.0)\n",
      "Requirement already satisfied: pycparser in /Users/isisromero/anaconda3/envs/MLEIA/lib/python3.11/site-packages (from cffi>=1.0->soundfile>=0.12.1->librosa) (2.21)\n",
      "Requirement already satisfied: charset-normalizer<4,>=2 in /Users/isisromero/anaconda3/envs/MLEIA/lib/python3.11/site-packages (from requests>=2.19.0->pooch>=1.1->librosa) (2.0.4)\n",
      "Requirement already satisfied: idna<4,>=2.5 in /Users/isisromero/anaconda3/envs/MLEIA/lib/python3.11/site-packages (from requests>=2.19.0->pooch>=1.1->librosa) (3.7)\n",
      "Requirement already satisfied: urllib3<3,>=1.21.1 in /Users/isisromero/anaconda3/envs/MLEIA/lib/python3.11/site-packages (from requests>=2.19.0->pooch>=1.1->librosa) (2.2.2)\n",
      "Requirement already satisfied: certifi>=2017.4.17 in /Users/isisromero/anaconda3/envs/MLEIA/lib/python3.11/site-packages (from requests>=2.19.0->pooch>=1.1->librosa) (2024.7.4)\n",
      "Note: you may need to restart the kernel to use updated packages.\n"
     ]
    }
   ],
   "source": [
    "%pip install librosa"
   ]
  },
  {
   "cell_type": "code",
   "execution_count": 14,
   "id": "bd236ed1-4728-48ae-84c0-8cbafa59b6d7",
   "metadata": {},
   "outputs": [
    {
     "name": "stdout",
     "output_type": "stream",
     "text": [
      "Requirement already satisfied: librosa in /Users/isisromero/anaconda3/envs/MLEIA/lib/python3.11/site-packages (0.10.2.post1)\n",
      "Requirement already satisfied: matplotlib in /Users/isisromero/anaconda3/envs/MLEIA/lib/python3.11/site-packages (3.8.4)\n",
      "Requirement already satisfied: audioread>=2.1.9 in /Users/isisromero/anaconda3/envs/MLEIA/lib/python3.11/site-packages (from librosa) (3.0.1)\n",
      "Requirement already satisfied: numpy!=1.22.0,!=1.22.1,!=1.22.2,>=1.20.3 in /Users/isisromero/anaconda3/envs/MLEIA/lib/python3.11/site-packages (from librosa) (1.26.4)\n",
      "Requirement already satisfied: scipy>=1.2.0 in /Users/isisromero/anaconda3/envs/MLEIA/lib/python3.11/site-packages (from librosa) (1.10.0)\n",
      "Requirement already satisfied: scikit-learn>=0.20.0 in /Users/isisromero/anaconda3/envs/MLEIA/lib/python3.11/site-packages (from librosa) (1.1.3)\n",
      "Requirement already satisfied: joblib>=0.14 in /Users/isisromero/anaconda3/envs/MLEIA/lib/python3.11/site-packages (from librosa) (1.4.2)\n",
      "Requirement already satisfied: decorator>=4.3.0 in /Users/isisromero/anaconda3/envs/MLEIA/lib/python3.11/site-packages (from librosa) (5.1.1)\n",
      "Requirement already satisfied: numba>=0.51.0 in /Users/isisromero/anaconda3/envs/MLEIA/lib/python3.11/site-packages (from librosa) (0.60.0)\n",
      "Requirement already satisfied: soundfile>=0.12.1 in /Users/isisromero/anaconda3/envs/MLEIA/lib/python3.11/site-packages (from librosa) (0.12.1)\n",
      "Requirement already satisfied: pooch>=1.1 in /Users/isisromero/anaconda3/envs/MLEIA/lib/python3.11/site-packages (from librosa) (1.7.0)\n",
      "Requirement already satisfied: soxr>=0.3.2 in /Users/isisromero/anaconda3/envs/MLEIA/lib/python3.11/site-packages (from librosa) (0.4.0)\n",
      "Requirement already satisfied: typing-extensions>=4.1.1 in /Users/isisromero/anaconda3/envs/MLEIA/lib/python3.11/site-packages (from librosa) (4.11.0)\n",
      "Requirement already satisfied: lazy-loader>=0.1 in /Users/isisromero/anaconda3/envs/MLEIA/lib/python3.11/site-packages (from librosa) (0.4)\n",
      "Requirement already satisfied: msgpack>=1.0 in /Users/isisromero/anaconda3/envs/MLEIA/lib/python3.11/site-packages (from librosa) (1.0.8)\n",
      "Requirement already satisfied: contourpy>=1.0.1 in /Users/isisromero/anaconda3/envs/MLEIA/lib/python3.11/site-packages (from matplotlib) (1.2.0)\n",
      "Requirement already satisfied: cycler>=0.10 in /Users/isisromero/anaconda3/envs/MLEIA/lib/python3.11/site-packages (from matplotlib) (0.11.0)\n",
      "Requirement already satisfied: fonttools>=4.22.0 in /Users/isisromero/anaconda3/envs/MLEIA/lib/python3.11/site-packages (from matplotlib) (4.51.0)\n",
      "Requirement already satisfied: kiwisolver>=1.3.1 in /Users/isisromero/anaconda3/envs/MLEIA/lib/python3.11/site-packages (from matplotlib) (1.4.4)\n",
      "Requirement already satisfied: packaging>=20.0 in /Users/isisromero/anaconda3/envs/MLEIA/lib/python3.11/site-packages (from matplotlib) (24.1)\n",
      "Requirement already satisfied: pillow>=8 in /Users/isisromero/anaconda3/envs/MLEIA/lib/python3.11/site-packages (from matplotlib) (10.3.0)\n",
      "Requirement already satisfied: pyparsing>=2.3.1 in /Users/isisromero/anaconda3/envs/MLEIA/lib/python3.11/site-packages (from matplotlib) (3.0.9)\n",
      "Requirement already satisfied: python-dateutil>=2.7 in /Users/isisromero/anaconda3/envs/MLEIA/lib/python3.11/site-packages (from matplotlib) (2.9.0.post0)\n",
      "Requirement already satisfied: llvmlite<0.44,>=0.43.0dev0 in /Users/isisromero/anaconda3/envs/MLEIA/lib/python3.11/site-packages (from numba>=0.51.0->librosa) (0.43.0)\n",
      "Requirement already satisfied: platformdirs>=2.5.0 in /Users/isisromero/anaconda3/envs/MLEIA/lib/python3.11/site-packages (from pooch>=1.1->librosa) (3.10.0)\n",
      "Requirement already satisfied: requests>=2.19.0 in /Users/isisromero/anaconda3/envs/MLEIA/lib/python3.11/site-packages (from pooch>=1.1->librosa) (2.32.2)\n",
      "Requirement already satisfied: six>=1.5 in /Users/isisromero/anaconda3/envs/MLEIA/lib/python3.11/site-packages (from python-dateutil>=2.7->matplotlib) (1.16.0)\n",
      "Requirement already satisfied: threadpoolctl>=2.0.0 in /Users/isisromero/anaconda3/envs/MLEIA/lib/python3.11/site-packages (from scikit-learn>=0.20.0->librosa) (3.5.0)\n",
      "Requirement already satisfied: cffi>=1.0 in /Users/isisromero/anaconda3/envs/MLEIA/lib/python3.11/site-packages (from soundfile>=0.12.1->librosa) (1.16.0)\n",
      "Requirement already satisfied: pycparser in /Users/isisromero/anaconda3/envs/MLEIA/lib/python3.11/site-packages (from cffi>=1.0->soundfile>=0.12.1->librosa) (2.21)\n",
      "Requirement already satisfied: charset-normalizer<4,>=2 in /Users/isisromero/anaconda3/envs/MLEIA/lib/python3.11/site-packages (from requests>=2.19.0->pooch>=1.1->librosa) (2.0.4)\n",
      "Requirement already satisfied: idna<4,>=2.5 in /Users/isisromero/anaconda3/envs/MLEIA/lib/python3.11/site-packages (from requests>=2.19.0->pooch>=1.1->librosa) (3.7)\n",
      "Requirement already satisfied: urllib3<3,>=1.21.1 in /Users/isisromero/anaconda3/envs/MLEIA/lib/python3.11/site-packages (from requests>=2.19.0->pooch>=1.1->librosa) (2.2.2)\n",
      "Requirement already satisfied: certifi>=2017.4.17 in /Users/isisromero/anaconda3/envs/MLEIA/lib/python3.11/site-packages (from requests>=2.19.0->pooch>=1.1->librosa) (2024.7.4)\n",
      "Note: you may need to restart the kernel to use updated packages.\n"
     ]
    }
   ],
   "source": [
    "%pip install librosa matplotlib"
   ]
  },
  {
   "cell_type": "code",
   "execution_count": 20,
   "id": "470c6b7e-434f-4ce0-943b-7ac774461555",
   "metadata": {},
   "outputs": [],
   "source": [
    "# File Requests\n",
    "import requests\n",
    "\n",
    "# Numerical Computing\n",
    "import numpy as np\n",
    "import audio2numpy\n",
    "\n",
    "# Librosa\n",
    "import librosa\n",
    "import librosa.display\n",
    "from pydub import AudioSegment\n",
    "\n",
    "# \n",
    "import seaborn as sns\n",
    "import matplotlib.pyplot as plt\n",
    "\n",
    "#\n",
    "from collections import namedtuple"
   ]
  },
  {
   "cell_type": "markdown",
   "id": "9f61a5e0-d3ed-4f5d-b459-fc4b9e975051",
   "metadata": {},
   "source": [
    "#### Loading Data"
   ]
  },
  {
   "cell_type": "code",
   "execution_count": 21,
   "id": "21c7c2fd-3e8c-4d2d-8fea-e18ecc2e21ab",
   "metadata": {},
   "outputs": [],
   "source": [
    "def download_classical(url, file_name):\n",
    "    response = requests.get(url, stream=True)\n",
    "    with open(file_name, \"wb\") as song:\n",
    "        song.write(response.content)\n",
    "    response.close()\n",
    "\n",
    "def get_audio_file(file_name):\n",
    "    Song = namedtuple('Song', 'data sample_rate')\n",
    "    audio = AudioSegment.from_file(file_name)\n",
    "    data = np.array(audio.get_array_of_samples())\n",
    "    data = data.reshape((-1, audio.channels))\n",
    "    return Song(data, audio.frame_rate)\n",
    "\n",
    "def download_and_return_audio(url, file_name):\n",
    "    download_classical(url, file_name)\n",
    "    return get_audio_file(file_name)\n",
    "\n",
    "def get_audio_channels(song_data, sample=5000000):\n",
    "    Channels = namedtuple('Channels', 'left right sample_rate')\n",
    "    left = song_data.data[:,0][:sample]\n",
    "    right = song_data.data[:,1][:sample]\n",
    "    return Channels(left, right, song_data.sample_rate)\n",
    "\n",
    "def extract_mel_spec(channel_data, sample_rate, mels=128, fmax=12000):\n",
    "    Mel = namedtuple('Mel', 'S dB')\n",
    "    S = librosa.feature.melspectrogram(y=channel_data, sr=sample_rate, n_mels=mels, fmax=fmax)\n",
    "    dB = librosa.power_to_db(S, ref=np.max)\n",
    "    return Mel(S, dB)\n",
    "\n",
    "def extract_db_scale(channel_data):\n",
    "    return librosa.amplitude_to_db(np.abs(librosa.stft(channel_data)), ref=np.max)\n",
    "\n",
    "def generate_spectrogram(channel_data, sample_rate, piece_name, mels=128, fmax=22000):\n",
    "    with plt.style.context('seaborn-v0_8'):\n",
    "        fig, ax = plt.subplots(nrows=2, sharex=True, figsize=(12,8))\n",
    "        harmonic, percussion = librosa.effects.hpss(channel_data)\n",
    "        librosa.display.waveshow(harmonic, sr=sample_rate, alpha=0.5, ax=ax[0], label=\"Harmonic\")\n",
    "        librosa.display.waveshow(percussion, sr=sample_rate, alpha=0.5, ax=ax[0], label=\"Percussion\")\n",
    "        ax[0].set(title=f\"Harmonic and Percussive Waveforms for {piece_name}\")\n",
    "        ax[0].legend(loc='best')\n",
    "        ax[0].set_ylim([-1.0, 1.0])\n",
    "        mel = extract_mel_spec(channel_data, sample_rate, mels, fmax)\n",
    "        librosa.display.specshow(mel.S, x_axis='time', y_axis='mel', sr=sample_rate, fmax=fmax, ax=ax[1])\n",
    "        ax[1].set(title=f\"Mel spectrogram for {piece_name}\")\n",
    "        img = librosa.display.specshow(extract_db_scale(channel_data), y_axis='linear', x_axis='time', \n",
    "                                       sr=sample_rate, ax=ax[1])\n",
    "        fig.colorbar(img, ax=ax, format=\"%+2.f dB\")\n",
    "        plt.savefig(f\"{piece_name}_spec.svg\", format='svg', pad_inches=0)\n",
    "        plt.savefig(f\"{piece_name}_spec.png\", format='png', pad_inches=0)"
   ]
  },
  {
   "cell_type": "code",
   "execution_count": 27,
   "id": "145c8d58-bdf9-48ba-9173-2f47bac5a967",
   "metadata": {},
   "outputs": [],
   "source": [
    "beethoven_url = \"https://freemusicarchive.org/music/Carlos_Gardels/Beethovens_Sonata_No_31_in_A_Flat_Major/Beethoven_-_Sonata_No_31_in_A_Flat_Major_Op_110_-_I_Moderato_cantabile_molto_espressivo/download\"\n",
    "\n",
    "mozart_url = \"https://freemusicarchive.org/track/Advent_Chamber_Orchestra_-_04_-_Mozart_-_A_Little_Night_Music_allegro/download\""
   ]
  },
  {
   "cell_type": "code",
   "execution_count": 29,
   "id": "f73b6462-bece-42bf-82d5-a0fd88fbcb43",
   "metadata": {},
   "outputs": [],
   "source": [
    "# beethoven = download_and_return_audio(beethoven_url, \"beethoven.mp3\")\n",
    "\n",
    "# mozart = download_and_return_audio(mozart_url, \"mozart.mp3\")"
   ]
  },
  {
   "cell_type": "code",
   "execution_count": 9,
   "id": "2aabbadf-bbda-46f7-96cc-b2daf8d4f72c",
   "metadata": {},
   "outputs": [],
   "source": [
    "# beethoven_channels = get_audio_channels(beethoven, sample=2000000)\n",
    "\n",
    "# mozart_channels = get_audio_channels(mozart, sample=2000000)"
   ]
  },
  {
   "cell_type": "code",
   "execution_count": 10,
   "id": "621c86fd-d226-4654-9290-4bc1573dd7dc",
   "metadata": {},
   "outputs": [],
   "source": [
    "# generate_spectrogram(beethoven_channels.left, beethoven_channels.sample_rate, \"Sonata31Moderato\")"
   ]
  },
  {
   "cell_type": "code",
   "execution_count": 11,
   "id": "b6cf12f0-1d16-4a28-b081-88ac63a7f626",
   "metadata": {},
   "outputs": [],
   "source": [
    "# generate_spectrogram(mozart_channels.left, mozart_channels.sample_rate, \"EineKleineNachtmusik\")"
   ]
  },
  {
   "cell_type": "code",
   "execution_count": 24,
   "id": "df6a52f3-4cb6-46cb-94f9-b6e115746ec5",
   "metadata": {},
   "outputs": [
    {
     "name": "stdout",
     "output_type": "stream",
     "text": [
      "An error occurred: Failed to download file: 500\n"
     ]
    }
   ],
   "source": []
  },
  {
   "cell_type": "code",
   "execution_count": null,
   "id": "54425e35-5b5a-4380-9167-245e85d89fb8",
   "metadata": {},
   "outputs": [],
   "source": []
  }
 ],
 "metadata": {
  "kernelspec": {
   "display_name": "Python 3 (ipykernel)",
   "language": "python",
   "name": "python3"
  },
  "language_info": {
   "codemirror_mode": {
    "name": "ipython",
    "version": 3
   },
   "file_extension": ".py",
   "mimetype": "text/x-python",
   "name": "python",
   "nbconvert_exporter": "python",
   "pygments_lexer": "ipython3",
   "version": "3.11.9"
  }
 },
 "nbformat": 4,
 "nbformat_minor": 5
}
