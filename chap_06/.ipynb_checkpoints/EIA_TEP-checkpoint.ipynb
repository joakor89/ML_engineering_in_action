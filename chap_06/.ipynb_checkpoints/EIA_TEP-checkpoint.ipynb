{
 "cells": [
  {
   "cell_type": "markdown",
   "id": "9efa6f15-d18d-436c-9d46-6678ea7b5c41",
   "metadata": {},
   "source": [
    "# Experimentation in Action: Testing & Evaluating a Project\n",
    "\n",
    "### Loading Libraries"
   ]
  },
  {
   "cell_type": "code",
   "execution_count": null,
   "id": "627bd56a-4e98-4953-89b7-3b45a67fcbbf",
   "metadata": {},
   "outputs": [],
   "source": [
    "# Numerical Computing\n",
    "import numpy as np\n",
    "\n",
    "# Data Manipulation\n",
    "import pandas as pd\n",
    "\n",
    "# Mathematics\n",
    "from math import sqrt\n",
    "\n",
    "# Data Visualization\n",
    "import matplotlib.pylab as plt\n",
    "import seaborn as sns\n",
    "\n",
    "# Scikit-Learn\n",
    "\n",
    "from sklearn.metrics import explained_variance_score, mean_absolute_error, mean_squared_error, r2_score \n",
    "\n",
    "# Dates\n",
    "from dateutil.parser import parse\n",
    "\n",
    "# Statistical Models\n",
    "from statsmodels.tsa.arima.model import ARIMA\n",
    "from statsmodels.tsa.vector_ar.var_model import VAR\n",
    "from statsmodels.tsa.holtwinters import ExponentialSmoothing\n",
    "\n",
    "#"
   ]
  },
  {
   "cell_type": "markdown",
   "id": "c544aa1f-2f24-42f9-8492-f947ffd7fea8",
   "metadata": {},
   "source": [
    "#### Loading Data"
   ]
  },
  {
   "cell_type": "code",
   "execution_count": null,
   "id": "586dcdf1-29a4-46de-a56b-00925cabf8d8",
   "metadata": {},
   "outputs": [],
   "source": [
    "DATA_PATH = '/Users/isisromero/desktop/MLEIA/chap_06/air-passenger-traffic-per-month-port-authority-of-ny-nj-beginning-1977.csv\n",
    "AIRPORT_FIELD = 'Airport Code'\n",
    "\n",
    "def apply_index_freq(data, freq):\n",
    "    return data.asfreq(freq)\n",
    "\n",
    "def pull_raw_airport_data(file_location):\n",
    "    raw = pd.read_csv(file_location)\n",
    "    raw = raw.copy(deep=False)\n",
    "    raw['Month'] = pd.to_datetime(raw['Month'], format='%b').dt.month\n",
    "    raw.loc[:, 'Day'] = 1\n",
    "    raw['date'] = pd.to_datetime(raw[['Year', 'Month', 'Day']])\n",
    "    raw.set_index('date', inplace=True)\n",
    "    raw.index = pd.DatetimeIndex(raw.index.values, freq=raw.index.inferred_freq)\n",
    "    asc = raw.sort_index()\n",
    "    return asc\n",
    "\n",
    "def get_airport_data(airport, file_location): \n",
    "    all_data = pull_raw_airport_data(file_location)\n",
    "    filtered = all_data[all_data[AIRPORT_FIELD] == airport]\n",
    "    return filtered"
   ]
  },
  {
   "cell_type": "code",
   "execution_count": null,
   "id": "6ab2c51c-a42d-49ad-a2e7-aec62c52b23d",
   "metadata": {},
   "outputs": [],
   "source": [
    "def exp_smoothing(raw_series, alpha=0.05): \n",
    "    output = [raw_series[0]]\n",
    "    \n",
    "    for i in range(1, len(raw_series)):\n",
    "        output.append(raw_series[i] * alpha + (1-alpha) * output[i-1])\n",
    "    return output"
   ]
  },
  {
   "cell_type": "markdown",
   "id": "4b3f7c67-03a0-47b0-a428-5ed8d50d6d60",
   "metadata": {},
   "source": [
    "#### Mean Absolute Error & Uncertainty"
   ]
  },
  {
   "cell_type": "code",
   "execution_count": null,
   "id": "46506ea8-0abc-4f02-9bb3-463f056c8227",
   "metadata": {},
   "outputs": [],
   "source": []
  },
  {
   "cell_type": "code",
   "execution_count": null,
   "id": "cd4f122f-6aa2-488e-90b2-b8ada5877e96",
   "metadata": {},
   "outputs": [],
   "source": []
  },
  {
   "cell_type": "code",
   "execution_count": null,
   "id": "1e02bba5-a06a-46e8-be4d-7564ecaa6ad7",
   "metadata": {},
   "outputs": [],
   "source": []
  },
  {
   "cell_type": "code",
   "execution_count": null,
   "id": "724c6fd1-fc8d-4b9e-9033-59bf65378677",
   "metadata": {},
   "outputs": [],
   "source": []
  },
  {
   "cell_type": "code",
   "execution_count": null,
   "id": "6a3e2109-67e3-40cd-b781-a910893d1d95",
   "metadata": {},
   "outputs": [],
   "source": []
  },
  {
   "cell_type": "code",
   "execution_count": null,
   "id": "affbb249-0b2d-4b7a-8451-015fd88994e5",
   "metadata": {},
   "outputs": [],
   "source": []
  },
  {
   "cell_type": "code",
   "execution_count": null,
   "id": "95dd1a51-0be4-4a6b-822b-16d2feace68b",
   "metadata": {},
   "outputs": [],
   "source": []
  },
  {
   "cell_type": "code",
   "execution_count": null,
   "id": "58e3c09f-4454-4748-b177-4f6943953845",
   "metadata": {},
   "outputs": [],
   "source": []
  },
  {
   "cell_type": "code",
   "execution_count": null,
   "id": "52367f17-dc70-41fd-9d88-d66e4cd1c7f4",
   "metadata": {},
   "outputs": [],
   "source": []
  },
  {
   "cell_type": "code",
   "execution_count": null,
   "id": "be8b9064-9aa0-4d3d-8fde-bb4e45f7ad65",
   "metadata": {},
   "outputs": [],
   "source": []
  },
  {
   "cell_type": "code",
   "execution_count": null,
   "id": "fea5d7fa-0fb3-40c9-8b09-f8a49d38abc4",
   "metadata": {},
   "outputs": [],
   "source": []
  },
  {
   "cell_type": "code",
   "execution_count": null,
   "id": "9b5fa2e8-732e-428e-98fb-7ed368d7c1ed",
   "metadata": {},
   "outputs": [],
   "source": []
  },
  {
   "cell_type": "code",
   "execution_count": null,
   "id": "3b9fb1bd-1707-4513-9c19-e46635a42854",
   "metadata": {},
   "outputs": [],
   "source": []
  },
  {
   "cell_type": "code",
   "execution_count": null,
   "id": "808ac1ec-1707-4473-990b-290b8302060f",
   "metadata": {},
   "outputs": [],
   "source": []
  }
 ],
 "metadata": {
  "kernelspec": {
   "display_name": "Python 3 (ipykernel)",
   "language": "python",
   "name": "python3"
  },
  "language_info": {
   "codemirror_mode": {
    "name": "ipython",
    "version": 3
   },
   "file_extension": ".py",
   "mimetype": "text/x-python",
   "name": "python",
   "nbconvert_exporter": "python",
   "pygments_lexer": "ipython3",
   "version": "3.11.9"
  }
 },
 "nbformat": 4,
 "nbformat_minor": 5
}
